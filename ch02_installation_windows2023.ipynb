{
 "cells": [
  {
   "cell_type": "markdown",
   "id": "8c5cea57-3d71-4bac-9c2a-7f53c4526952",
   "metadata": {},
   "source": [
    "## 2章: ケモインフォマティクスのための環境を整えよう"
   ]
  },
  {
   "cell_type": "markdown",
   "id": "5399abc4-0fb7-43d8-b8f1-44506e9e4875",
   "metadata": {},
   "source": [
    "本書に必要な環境構築を行います。Windows (Windows 11 Home) 使用です。パッケージのバージョン指定などはせず、インストールできるものをインストールしてみます。個人で勉強するには、<a href=\"https://studiolab.sagemaker.aws/\" target=\"_blank\"> SageMaker Studio Lab </a>, <a href=\"https://anaconda.cloud/\" target=\"_blank\"> Anaconda Cloud </a>などで実施するのが簡単かもしれません。\r\n"
   ]
  },
  {
   "cell_type": "markdown",
   "id": "1b0ec765-46a5-446b-8d13-878eb47b076a",
   "metadata": {},
   "source": [
    "### Anaconda とは\r\n",
    "Anaconda は機械学習を行うための準備を楽にするためのパッケージです。また、後ほど説明する RDKit を簡単にインストールできます。"
   ]
  },
  {
   "cell_type": "markdown",
   "id": "8a47782f-ac85-4ab5-b156-8c3f4db88476",
   "metadata": {},
   "source": [
    "### Anaconda のインストール方法\n",
    "では早速 Anaconda をインストールしましょう。<a href=\"https://docs.conda.io/projects/conda/en/stable/user-guide/install/windows.html\" target=\"_blank\"> 公式サイト </a>にアクセスして、ご自身の環境にあったインストーラーをダウンロードします。現時点での最新は、Latest - Conda 23.5.2 Python 3.11.4 released July 13, 2023 のようです。"
   ]
  },
  {
   "cell_type": "markdown",
   "id": "3145e3b9-91c9-429a-9aa1-1ebe50d0277f",
   "metadata": {},
   "source": [
    "#### Q&A\n",
    "なぜAnacondaを利用するのか？\n",
    "プログラミング言語 Python は比較的多くの標準ライブラリが用意されていますが、ケモインフォマティクス用のライブラリは自分でインストールする必要があります。この作業は慣れれば大した問題ではないですが、初学者にとっては面倒くさいでしょう。この手間を軽減するのが理由です。"
   ]
  },
  {
   "cell_type": "markdown",
   "id": "7a20a98d-13c4-4acd-8a42-2d9b8ff2777a",
   "metadata": {},
   "source": [
    "Anaconda (Miniconda) のインストールが完了すると、コマンドプロンプトまたはターミナルから ’conda’ コマンドが使えるようなにります。Miniconda を選択した場合は、Jupyter Lab を導入しましょう。導入後ショートカットを作成しておくとアクセスしやすくなります。"
   ]
  },
  {
   "cell_type": "raw",
   "id": "2df5c6fc-18e5-41f2-b6b2-013341ac1ce1",
   "metadata": {},
   "source": [
    "# Jupyter lab\n",
    "conda install jupyterlab"
   ]
  },
  {
   "cell_type": "markdown",
   "id": "cfa87b2e-0a77-4629-99b6-f65c778f39af",
   "metadata": {},
   "source": [
    "### 仮想環境の構築とパッケージのインストール\n",
    "コマンドの -n の後ろには環境の名前になり、\"py4chemoinformatics\"としています（皆さんの好きな名前で大丈夫です）。 仮想環境構築後、本章以降で利用するパッケージをインストールします。"
   ]
  },
  {
   "cell_type": "raw",
   "id": "c6bb5c04-ef71-446e-8849-1dd8455d998f",
   "metadata": {},
   "source": [
    "$ conda create -n py4chemoinformatics"
   ]
  },
  {
   "cell_type": "raw",
   "id": "929898f0-86ff-47bf-94b0-c1bc3ce66670",
   "metadata": {},
   "source": [
    "$ activate py4chemoinformatics # Windows"
   ]
  },
  {
   "cell_type": "raw",
   "id": "672036d2-30b0-406e-aa25-3be24379494e",
   "metadata": {},
   "source": [
    "# install packages\n",
    "conda install -c conda-forge rdkit\n",
    "conda install -c conda-forge git\n",
    "conda install -c conda-forge ipykernel\n",
    "# 本仮想環境が Jupyter Lab 上で使用できるようにします。\n",
    "ipython kernel install --user --name=py4chemoinformatics"
   ]
  },
  {
   "cell_type": "markdown",
   "id": "a5b6d8e7-5c55-491b-85fd-8f5b0478b9c9",
   "metadata": {},
   "source": [
    "### インストールしたパッケージの説明\n",
    "#### RDKit\n",
    "RDKit はケモインフォマティクスの分野で最近よく用いられるツールキットの一つです。オープンソースソフトウェア(OSS)と呼ばれるものの一つで、無償で利用することが可能です。詳しくははじめにを参照してください。\n",
    "\n",
    "#### Git\n",
    "バージョン管理システムです。本書では Git については説明しませんのでもし Git について全然知らないという方はサルでもわかるGit入門でも読みましょう。\n",
    "\n",
    "「はじめに」でも説明しましたが、以下のコマンドで pdf を含む全てのデータがダウンロードされますので必要に応じてダウンロードしてください。"
   ]
  },
  {
   "cell_type": "raw",
   "id": "b3ab46df-39d5-45c6-ac1f-ed85337474e1",
   "metadata": {},
   "source": [
    "git clone https://github.com/Mishima-syk/py4chemoinformatics.git"
   ]
  },
  {
   "cell_type": "markdown",
   "id": "3eb2bc97-523b-49fc-8268-9c7b7fa4f7d8",
   "metadata": {},
   "source": [
    "### Condaについてもう少し詳しく\n",
    "#### なぜ仮想環境を作るのでしょうか\n",
    "いくつかのシステムでは様々な機能を提供するために内部的に Python を利用しているため、特定のパッケージのために Python のバージョンを変更してしまうと問題が起こることがあります。仮想環境はこのような問題を解決します。もし、パッケージが異なるライブラリのバージョンを要求しても仮想的な Python 環境を準備して試行錯誤できます。不要になれば仮想環境を簡単に削除でき、もとの環境にトラブルを持ちこむこともありません。このように、ひとつのシステム内にそれぞれ個別の開発環境を作成できるようにすることで開発時によく起こるライブラリの依存問題や Python のバージョンの違いに悩まされることがなくなります。\n",
    "\n",
    "本書では本書用に一つだけ仮想環境を用意しますが、実際はいくつもの仮想環境をつくって開発することが多いです。そのため、よく利用する conda のサブコマンドを挙げておきます。"
   ]
  },
  {
   "cell_type": "raw",
   "id": "bae4f2d5-2d13-44ae-81dc-6f9cba5e96ee",
   "metadata": {},
   "source": [
    "conda install <package name>　# install package\n",
    "conda create -n 仮想環境の名前 python=バージョン　# 仮想環境の作成。\n",
    "conda info -e # 作った仮想環境一覧の表示\n",
    "conda remove -n 仮想環境の名前 # 仮想環境の削除\n",
    "conda activate 仮想環境の名前 # 仮想環境を使う\n",
    "conda deactivate # 仮想環境から出る\n",
    "conda list # 今使っている仮想環境にインストールされているライブラリの一覧を表示"
   ]
  }
 ],
 "metadata": {
  "kernelspec": {
   "display_name": "py4chemoinformatics",
   "language": "python",
   "name": "py4chemoinformatics"
  },
  "language_info": {
   "codemirror_mode": {
    "name": "ipython",
    "version": 3
   },
   "file_extension": ".py",
   "mimetype": "text/x-python",
   "name": "python",
   "nbconvert_exporter": "python",
   "pygments_lexer": "ipython3",
   "version": "3.10.12"
  }
 },
 "nbformat": 4,
 "nbformat_minor": 5
}
