{
 "cells": [
  {
   "cell_type": "code",
   "execution_count": null,
   "metadata": {},
   "outputs": [],
   "source": [
    "!git clone --depth 1 https://github.com/MarcusOlivecrona/REINVENT.git"
   ]
  },
  {
   "cell_type": "code",
   "execution_count": null,
   "metadata": {},
   "outputs": [],
   "source": [
    "!wget https://github.com/Mishima-syk/13/raw/master/generator_handson/data.zip\n",
    "!unzip data.zip\n",
    "!rm -rf ./REINVENT/data\n",
    "!mv data ./REINVENT/"
   ]
  },
  {
   "cell_type": "code",
   "execution_count": null,
   "metadata": {},
   "outputs": [],
   "source": [
    "!git clone --depth 1 https://github.com/Mishima-syk/13.git"
   ]
  },
  {
   "cell_type": "code",
   "execution_count": null,
   "metadata": {},
   "outputs": [],
   "source": [
    "%matplotlib inline\n",
    "import sys\n",
    "sys.path.append(\"./REINVENT\")\n",
    "from rdkit import Chem\n",
    "from rdkit.Chem import AllChem, DataStructs, Draw\n",
    "import torch\n",
    "from model import RNN\n",
    "from data_structs import Vocabulary\n",
    "from utils import seq_to_smiles"
   ]
  },
  {
   "cell_type": "code",
   "execution_count": null,
   "metadata": {},
   "outputs": [],
   "source": [
    "voc = Vocabulary(init_from_file=\"./REINVENT/data/Voc\")\n",
    "Agent = RNN(voc)\n",
    "Agent.rnn.load_state_dict(torch.load(\"./13/generator_handson/sitagliptin_agent_3000/Agent.ckpt\"))\n",
    "seqs, agent_likelihood, entropy = Agent.sample(50)\n",
    "smiles = seq_to_smiles(seqs, voc)"
   ]
  },
  {
   "cell_type": "code",
   "execution_count": null,
   "metadata": {
    "scrolled": false
   },
   "outputs": [],
   "source": [
    "mols = []\n",
    "for smi in smiles:\n",
    "    mol = Chem.MolFromSmiles(smi)\n",
    "    if mol is not None:\n",
    "        mols.append(mol)\n",
    "\n",
    "Draw.MolsToGridImage(mols, molsPerRow=3, subImgSize=(500,400))"
   ]
  },
  {
   "cell_type": "code",
   "execution_count": null,
   "metadata": {},
   "outputs": [],
   "source": []
  }
 ],
 "metadata": {
  "kernelspec": {
   "display_name": "Python 3",
   "language": "python",
   "name": "python3"
  },
  "language_info": {
   "codemirror_mode": {
    "name": "ipython",
    "version": 3
   },
   "file_extension": ".py",
   "mimetype": "text/x-python",
   "name": "python",
   "nbconvert_exporter": "python",
   "pygments_lexer": "ipython3",
   "version": "3.6.13"
  }
 },
 "nbformat": 4,
 "nbformat_minor": 2
}
