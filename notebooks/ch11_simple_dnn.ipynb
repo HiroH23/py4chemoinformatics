{
 "cells": [
  {
   "cell_type": "code",
   "execution_count": 1,
   "metadata": {},
   "outputs": [],
   "source": [
    "from rdkit import Chem, DataStructs\n",
    "from rdkit.Chem import AllChem, Draw\n",
    "from rdkit.Chem.Draw import IPythonConsole\n",
    "import numpy as np\n",
    "from sklearn.model_selection import train_test_split\n",
    "from sklearn.metrics import confusion_matrix"
   ]
  },
  {
   "cell_type": "code",
   "execution_count": 2,
   "metadata": {},
   "outputs": [],
   "source": [
    "from keras.layers import Input\n",
    "from keras.layers import Dense\n",
    "from keras.layers import Dropout\n",
    "from keras.layers import Activation\n",
    "from keras.models import Model\n",
    "from numpy.random import seed"
   ]
  },
  {
   "cell_type": "code",
   "execution_count": 3,
   "metadata": {},
   "outputs": [],
   "source": [
    "mols = []\n",
    "labels = []\n",
    "with open(\"ch09_compounds.txt\") as f:\n",
    "    header = f.readline()\n",
    "    smiles_index = -1\n",
    "    for i, title in enumerate(header.split(\"\\t\")):\n",
    "        if title == \"CANONICAL_SMILES\":\n",
    "            smiles_index = i\n",
    "        elif title == \"STANDARD_VALUE\":\n",
    "            value_index = i\n",
    "    for l in f:\n",
    "        ls = l.split(\"\\t\")\n",
    "        mol = Chem.MolFromSmiles(ls[smiles_index])\n",
    "        mols.append(mol)\n",
    "        val = float(ls[value_index])\n",
    "        if val < 1000:\n",
    "            labels.append([0,1]) # Positive\n",
    "        else:\n",
    "            labels.append([1,0]) # Negative\n",
    "labels = np.array(labels)"
   ]
  },
  {
   "cell_type": "code",
   "execution_count": 4,
   "metadata": {},
   "outputs": [],
   "source": [
    "nBits = 2048\n",
    "fps = []\n",
    "for mol in mols:\n",
    "    fp = AllChem.GetMorganFingerprintAsBitVect(mol, 2, nBits=nBits)\n",
    "    arr = np.zeros((1,))\n",
    "    DataStructs.ConvertToNumpyArray(fp, arr)\n",
    "    fps.append(arr)\n",
    "fps = np.array(fps)"
   ]
  },
  {
   "cell_type": "code",
   "execution_count": 5,
   "metadata": {},
   "outputs": [],
   "source": [
    "x_train1, x_test1, y_train1, y_test1 = train_test_split(fps, labels, random_state=794)"
   ]
  },
  {
   "cell_type": "code",
   "execution_count": 6,
   "metadata": {},
   "outputs": [],
   "source": [
    "# Define DNN classifier model\n",
    "epochs = 10\n",
    "inputlayer1 = Input(shape=(nBits, ))\n",
    "x1 = Dense(300, activation='relu')(inputlayer1)\n",
    "x1 = Dropout(0.2)(x1)\n",
    "x1 = Dense(300, activation='relu')(x1)\n",
    "x1 = Dropout(0.2)(x1)\n",
    "x1 = Dense(300, activation='relu')(x1)\n",
    "output1 = Dense(2, activation='softmax')(x1)\n",
    "model1 = Model(inputs=[inputlayer1], outputs=[output1])"
   ]
  },
  {
   "cell_type": "code",
   "execution_count": 7,
   "metadata": {},
   "outputs": [],
   "source": [
    "model1.compile(optimizer='adam', loss='categorical_crossentropy', metrics=['accuracy'])"
   ]
  },
  {
   "cell_type": "code",
   "execution_count": 8,
   "metadata": {},
   "outputs": [
    {
     "name": "stdout",
     "output_type": "stream",
     "text": [
      "Epoch 1/10\n",
      "2/2 [==============================] - 1s 102ms/step - loss: 0.7022 - accuracy: 0.4213\n",
      "Epoch 2/10\n",
      "2/2 [==============================] - 0s 90ms/step - loss: 0.6023 - accuracy: 0.5845\n",
      "Epoch 3/10\n",
      "2/2 [==============================] - 0s 94ms/step - loss: 0.4779 - accuracy: 0.8823\n",
      "Epoch 4/10\n",
      "2/2 [==============================] - 0s 99ms/step - loss: 0.3757 - accuracy: 0.9194\n",
      "Epoch 5/10\n",
      "2/2 [==============================] - 0s 102ms/step - loss: 0.2367 - accuracy: 1.0000\n",
      "Epoch 6/10\n",
      "2/2 [==============================] - 0s 8ms/step - loss: 0.1379 - accuracy: 1.0000\n",
      "Epoch 7/10\n",
      "2/2 [==============================] - 0s 102ms/step - loss: 0.0537 - accuracy: 1.0000\n",
      "Epoch 8/10\n",
      "2/2 [==============================] - 0s 14ms/step - loss: 0.0232 - accuracy: 1.0000\n",
      "Epoch 9/10\n",
      "2/2 [==============================] - 0s 6ms/step - loss: 0.0064 - accuracy: 1.0000\n",
      "Epoch 10/10\n",
      "2/2 [==============================] - 0s 5ms/step - loss: 0.0019 - accuracy: 1.0000\n"
     ]
    }
   ],
   "source": [
    "hist1 = model1.fit(x_train1, y_train1, epochs=epochs)"
   ]
  },
  {
   "cell_type": "code",
   "execution_count": 9,
   "metadata": {},
   "outputs": [],
   "source": [
    "%matplotlib inline\n",
    "import matplotlib.pyplot as plt"
   ]
  },
  {
   "cell_type": "code",
   "execution_count": 10,
   "metadata": {},
   "outputs": [
    {
     "data": {
      "text/plain": [
       "<matplotlib.legend.Legend at 0x7fbecc248c88>"
      ]
     },
     "execution_count": 10,
     "metadata": {},
     "output_type": "execute_result"
    },
    {
     "data": {
      "image/png": "[encoded data removed]",
      "text/plain": [
       "<Figure size 432x288 with 1 Axes>"
      ]
     },
     "metadata": {
      "needs_background": "light"
     },
     "output_type": "display_data"
    }
   ],
   "source": [
    "plt.plot(range(epochs), hist1.history['accuracy'], label='accuracy')\n",
    "plt.legend()\n",
    "plt.plot(range(epochs), hist1.history['loss'], label='loss')\n",
    "plt.legend()"
   ]
  },
  {
   "cell_type": "code",
   "execution_count": 11,
   "metadata": {},
   "outputs": [],
   "source": [
    "y_pred1 = model1.predict(x_test1)\n",
    "y_pred_cls1 = np.argmax(y_pred1, axis=1)\n",
    "y_test_cls1 =np.argmax(y_test1, axis=1)"
   ]
  },
  {
   "cell_type": "code",
   "execution_count": 12,
   "metadata": {},
   "outputs": [
    {
     "data": {
      "text/plain": [
       "array([[8, 5],\n",
       "       [1, 5]])"
      ]
     },
     "execution_count": 12,
     "metadata": {},
     "output_type": "execute_result"
    }
   ],
   "source": [
    "confusion_matrix(y_test_cls1, y_pred_cls1)"
   ]
  },
  {
   "cell_type": "code",
   "execution_count": 13,
   "metadata": {},
   "outputs": [],
   "source": [
    "from math import log10\n",
    "from sklearn.metrics import r2_score\n",
    "pIC50s = []\n",
    "with open(\"ch09_compounds.txt\") as f:\n",
    "    header = f.readline()\n",
    "    for i, title in enumerate(header.split(\"\\t\")):\n",
    "        if title == \"STANDARD_VALUE\":\n",
    "            value_index = i\n",
    "    for l in f:\n",
    "        ls = l.split(\"\\t\")\n",
    "        val = float(ls[value_index])\n",
    "        pIC50 = 9 - log10(val)\n",
    "        pIC50s.append(pIC50)\n",
    "\n",
    "pIC50s = np.array(pIC50s)\n",
    "x_train2, x_test2, y_train2, y_test2 = train_test_split(fps, pIC50s, random_state=794)"
   ]
  },
  {
   "cell_type": "code",
   "execution_count": 14,
   "metadata": {},
   "outputs": [],
   "source": [
    "epochs = 50\n",
    "inputlayer2 = Input(shape=(nBits, ))\n",
    "x2 = Dense(300, activation='relu')(inputlayer2)\n",
    "x2 = Dropout(0.2)(x2)\n",
    "x2 = Dense(300, activation='relu')(x2)\n",
    "x2 = Dropout(0.2)(x2)\n",
    "x2 = Dense(300, activation='relu')(x2)\n",
    "output2 = Dense(1, activation='linear')(x2)\n",
    "model2 = Model(inputs=[inputlayer2], outputs=[output2])"
   ]
  },
  {
   "cell_type": "code",
   "execution_count": 15,
   "metadata": {},
   "outputs": [],
   "source": [
    "model2.compile(optimizer='adam', loss='mean_squared_error')"
   ]
  },
  {
   "cell_type": "code",
   "execution_count": 16,
   "metadata": {},
   "outputs": [
    {
     "name": "stdout",
     "output_type": "stream",
     "text": [
      "Epoch 1/50\n",
      "2/2 [==============================] - 0s 101ms/step - loss: 31.2144\n",
      "Epoch 2/50\n",
      "2/2 [==============================] - 0s 7ms/step - loss: 22.2397\n",
      "Epoch 3/50\n",
      "2/2 [==============================] - 0s 87ms/step - loss: 10.6139\n",
      "Epoch 4/50\n",
      "2/2 [==============================] - 0s 90ms/step - loss: 3.5197\n",
      "Epoch 5/50\n",
      "2/2 [==============================] - 0s 91ms/step - loss: 7.4745\n",
      "Epoch 6/50\n",
      "2/2 [==============================] - 0s 6ms/step - loss: 3.2897\n",
      "Epoch 7/50\n",
      "2/2 [==============================] - 0s 100ms/step - loss: 0.8475\n",
      "Epoch 8/50\n",
      "2/2 [==============================] - 0s 11ms/step - loss: 1.5772\n",
      "Epoch 9/50\n",
      "2/2 [==============================] - 0s 108ms/step - loss: 2.5642\n",
      "Epoch 10/50\n",
      "2/2 [==============================] - 0s 85ms/step - loss: 1.8548\n",
      "Epoch 11/50\n",
      "2/2 [==============================] - 0s 6ms/step - loss: 0.5996\n",
      "Epoch 12/50\n",
      "2/2 [==============================] - 0s 87ms/step - loss: 0.3618\n",
      "Epoch 13/50\n",
      "2/2 [==============================] - 0s 7ms/step - loss: 1.1756\n",
      "Epoch 14/50\n",
      "2/2 [==============================] - 0s 6ms/step - loss: 0.8530\n",
      "Epoch 15/50\n",
      "2/2 [==============================] - 0s 102ms/step - loss: 0.4012\n",
      "Epoch 16/50\n",
      "2/2 [==============================] - 0s 5ms/step - loss: 0.4199\n",
      "Epoch 17/50\n",
      "2/2 [==============================] - 0s 79ms/step - loss: 0.7661\n",
      "Epoch 18/50\n",
      "2/2 [==============================] - 0s 6ms/step - loss: 0.6367\n",
      "Epoch 19/50\n",
      "2/2 [==============================] - 0s 6ms/step - loss: 0.3435\n",
      "Epoch 20/50\n",
      "2/2 [==============================] - 0s 85ms/step - loss: 0.2447\n",
      "Epoch 21/50\n",
      "2/2 [==============================] - 0s 5ms/step - loss: 0.3487\n",
      "Epoch 22/50\n",
      "2/2 [==============================] - 0s 85ms/step - loss: 0.4486\n",
      "Epoch 23/50\n",
      "2/2 [==============================] - 0s 5ms/step - loss: 0.1911\n",
      "Epoch 24/50\n",
      "2/2 [==============================] - 0s 6ms/step - loss: 0.1863\n",
      "Epoch 25/50\n",
      "2/2 [==============================] - 0s 6ms/step - loss: 0.3640\n",
      "Epoch 26/50\n",
      "2/2 [==============================] - 0s 87ms/step - loss: 0.3130\n",
      "Epoch 27/50\n",
      "2/2 [==============================] - 0s 5ms/step - loss: 0.2669\n",
      "Epoch 28/50\n",
      "2/2 [==============================] - 0s 9ms/step - loss: 0.2012\n",
      "Epoch 29/50\n",
      "2/2 [==============================] - 0s 6ms/step - loss: 0.2625\n",
      "Epoch 30/50\n",
      "2/2 [==============================] - 0s 88ms/step - loss: 0.2341\n",
      "Epoch 31/50\n",
      "2/2 [==============================] - 0s 5ms/step - loss: 0.1763\n",
      "Epoch 32/50\n",
      "2/2 [==============================] - 0s 6ms/step - loss: 0.2180\n",
      "Epoch 33/50\n",
      "2/2 [==============================] - 0s 5ms/step - loss: 0.2010\n",
      "Epoch 34/50\n",
      "2/2 [==============================] - 0s 6ms/step - loss: 0.2149\n",
      "Epoch 35/50\n",
      "2/2 [==============================] - 0s 5ms/step - loss: 0.1607\n",
      "Epoch 36/50\n",
      "2/2 [==============================] - 0s 7ms/step - loss: 0.2831\n",
      "Epoch 37/50\n",
      "2/2 [==============================] - 0s 87ms/step - loss: 0.1876\n",
      "Epoch 38/50\n",
      "2/2 [==============================] - 0s 6ms/step - loss: 0.2449\n",
      "Epoch 39/50\n",
      "2/2 [==============================] - 0s 6ms/step - loss: 0.2611\n",
      "Epoch 40/50\n",
      "2/2 [==============================] - 0s 6ms/step - loss: 0.2889\n",
      "Epoch 41/50\n",
      "2/2 [==============================] - 0s 6ms/step - loss: 0.1647\n",
      "Epoch 42/50\n",
      "2/2 [==============================] - 0s 6ms/step - loss: 0.1532\n",
      "Epoch 43/50\n",
      "2/2 [==============================] - 0s 5ms/step - loss: 0.3335\n",
      "Epoch 44/50\n",
      "2/2 [==============================] - 0s 6ms/step - loss: 0.1800\n",
      "Epoch 45/50\n",
      "2/2 [==============================] - 0s 6ms/step - loss: 0.1848\n",
      "Epoch 46/50\n",
      "2/2 [==============================] - 0s 76ms/step - loss: 0.1567\n",
      "Epoch 47/50\n",
      "2/2 [==============================] - 0s 5ms/step - loss: 0.1999\n",
      "Epoch 48/50\n",
      "2/2 [==============================] - 0s 84ms/step - loss: 0.1383\n",
      "Epoch 49/50\n",
      "2/2 [==============================] - 0s 6ms/step - loss: 0.1790\n",
      "Epoch 50/50\n",
      "2/2 [==============================] - 0s 6ms/step - loss: 0.1510\n"
     ]
    }
   ],
   "source": [
    "hist = model2.fit(x_train2, y_train2, epochs=epochs)"
   ]
  },
  {
   "cell_type": "code",
   "execution_count": 17,
   "metadata": {},
   "outputs": [],
   "source": [
    "y_pred2 = model2.predict(x_test2)"
   ]
  },
  {
   "cell_type": "code",
   "execution_count": 18,
   "metadata": {},
   "outputs": [
    {
     "data": {
      "text/plain": [
       "-0.17694819827296393"
      ]
     },
     "execution_count": 18,
     "metadata": {},
     "output_type": "execute_result"
    }
   ],
   "source": [
    "r2_score(y_test2, y_pred2)"
   ]
  },
  {
   "cell_type": "code",
   "execution_count": 19,
   "metadata": {},
   "outputs": [
    {
     "data": {
      "text/plain": [
       "[<matplotlib.lines.Line2D at 0x7fbea4794ac8>]"
      ]
     },
     "execution_count": 19,
     "metadata": {},
     "output_type": "execute_result"
    },
    {
     "data": {
      "image/png": "[encoded data removed]",
      "text/plain": [
       "<Figure size 432x288 with 1 Axes>"
      ]
     },
     "metadata": {
      "needs_background": "light"
     },
     "output_type": "display_data"
    }
   ],
   "source": [
    "plt.scatter(y_test2, y_pred2)\n",
    "plt.xlabel('exp')\n",
    "plt.ylabel('pred')\n",
    "plt.plot(np.arange(np.min(y_test2)-0.5, np.max(y_test2)+0.5), np.arange(np.min(y_test2)-0.5, np.max(y_test2)+0.5))"
   ]
  },
  {
   "cell_type": "code",
   "execution_count": null,
   "metadata": {},
   "outputs": [],
   "source": []
  }
 ],
 "metadata": {
  "kernelspec": {
   "display_name": "Python 3",
   "language": "python",
   "name": "python3"
  },
  "language_info": {
   "codemirror_mode": {
    "name": "ipython",
    "version": 3
   },
   "file_extension": ".py",
   "mimetype": "text/x-python",
   "name": "python",
   "nbconvert_exporter": "python",
   "pygments_lexer": "ipython3",
   "version": "3.6.13"
  }
 },
 "nbformat": 4,
 "nbformat_minor": 2
}
