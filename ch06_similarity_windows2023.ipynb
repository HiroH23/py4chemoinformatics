{
 "cells": [
  {
   "cell_type": "markdown",
   "id": "fee91809-eabf-4a8c-89c5-fa40f6b7b20b",
   "metadata": {},
   "source": [
    "## 6章: 化合物の類似性を評価してみる\n",
    "ECFPの図的説明が必要、バーチャルスクリーニングの日本語、MACCS けｙ最高でも 23% の類似度、pymol"
   ]
  },
  {
   "cell_type": "markdown",
   "id": "4411c309-4c52-4893-8106-5fd25d3841cd",
   "metadata": {},
   "source": [
    "### 化合物が似ているとはどういうことか？\n",
    "２つの化合物が似ているとはどういうことでしょうか？なんとなく形が似ている？という表現は科学的ではありません。ケモインフォマティクスでは類似度(一般的に0-100%値を取ります)や非類似度(距離)といった定量的な尺度により似ているかどうかを評価します。\n",
    "\n",
    "２つの代表的な評価尺度（分子の全体的な特徴を数値で表現する**記述子**と、部分構造の集合を表現することで分子の特徴を表現する**フィンガープリント**）を紹介します。"
   ]
  },
  {
   "cell_type": "markdown",
   "id": "2c38b3f7-a4f5-44ca-b749-f65bc5b22834",
   "metadata": {},
   "source": [
    "### 記述子\n",
    "分子の全体的な特徴を数値で表現するものを記述子と呼びます。分子量や極性表面性 (PSA)、分配係数 (logP) などがあり、現在までに多くの記述子が提案されています。これらの記述子の類似性を評価することで２つの分子がどのくらい似ているかを表現することが可能です。また分子全体の特徴を 1 つの数字で表現しており局所的な特徴ではないということに注意してください。\n",
    "#### Note\n",
    "いくつかの記述子に関しては市販ソフトでないと計算できない場合があります。"
   ]
  },
  {
   "cell_type": "markdown",
   "id": "4411f7b5-82e2-4998-9b3c-a374f7eadcdb",
   "metadata": {},
   "source": [
    "### フィンガープリント\n",
    "フィンガープリントとは分子の部分構造を 0, 1 のバイナリーで表現したもので部分構造の有無とビットの on (1), off (0) を対応させ、部分構造の集合を表現することで分子の特徴を表現しています。フィンガープリント (FP) には固定長 FP と可変長 FP の二種類が存在し、古くは MACCS key という固定長 FP (予め部分構造とインデックスが決められている FP) が使われていましたが、現在では ECFP4 (Morgan2) という可変長 FP が利用されることが多く見られます。\n",
    "\n",
    "RDKit のフィンガープリントに関しては開発者の Greg さんのスライドが詳しいので熟読してください。"
   ]
  },
  {
   "cell_type": "markdown",
   "id": "f1a0fc6d-51e3-4be6-96f7-c8c85be7c5dd",
   "metadata": {},
   "source": [
    "今回はこの ECFP4 (Morgan2) を利用した類似性評価をしてみましょう。"
   ]
  },
  {
   "cell_type": "markdown",
   "id": "992c8575-5715-468e-9d22-25c9ea2d0fb2",
   "metadata": {},
   "source": [
    "### SMILES とフィンガープリントの違い\n",
    "SMILES は構造を ASCII 文字列で表現したもの、フィンガープリントは部分構造の有無をバイナリで表現したものです。違いは前者は構造表現の 1 つであるのに対し、後者は特徴表現の一つだということです。 部分構造の有無だけしか表現していないため、部分構造間の関係性（どう位置関係でつながっているのか）といった情報が失われ、もとの構造に戻ることはありません。\n",
    "\n",
    "テキストマイニングでよく用いられる Bag-of-Words に対応するので Bag-of-Fragments と呼ぶ人もいます。"
   ]
  },
  {
   "cell_type": "markdown",
   "id": "eca12b75-cf54-4463-b495-3213b435bce8",
   "metadata": {},
   "source": [
    "### 類似度を計算する\n",
    "簡単な分子例としてトルエンとクロロベンゼンの類似性を評価してみましょう。"
   ]
  },
  {
   "cell_type": "code",
   "execution_count": 1,
   "id": "2f1528a2-ba02-4127-8b92-fc5d2e527213",
   "metadata": {},
   "outputs": [],
   "source": [
    "from rdkit import Chem, DataStructs\n",
    "from rdkit.Chem import AllChem, Draw\n",
    "# from rdkit.Chem.Draw import IPythonConsole"
   ]
  },
  {
   "cell_type": "markdown",
   "id": "2d8c40ea-b2a4-49b7-92c7-d1f564eb782a",
   "metadata": {},
   "source": [
    "SMILES で分子を読み込みます。"
   ]
  },
  {
   "cell_type": "code",
   "execution_count": 2,
   "id": "6528f886-7178-4699-96ae-866ecdc38c5b",
   "metadata": {},
   "outputs": [],
   "source": [
    "mol1 = Chem.MolFromSmiles(\"Cc1ccccc1\")\n",
    "mol2 = Chem.MolFromSmiles(\"Clc1ccccc1\")"
   ]
  },
  {
   "cell_type": "markdown",
   "id": "73f20078-bd8a-4ce1-a14a-129575e89fb8",
   "metadata": {},
   "source": [
    "目視で確認しましょう。"
   ]
  },
  {
   "cell_type": "code",
   "execution_count": 3,
   "id": "b8fb9674-cf7d-4f64-94b3-6ab49782c726",
   "metadata": {
    "scrolled": true
   },
   "outputs": [
    {
     "data": {
      "image/png": "[encoded data removed]",
      "text/plain": [
       "<IPython.core.display.Image object>"
      ]
     },
     "execution_count": 3,
     "metadata": {},
     "output_type": "execute_result"
    }
   ],
   "source": [
    "Draw.MolsToGridImage([mol1, mol2])"
   ]
  },
  {
   "cell_type": "markdown",
   "id": "23588c18-1921-443f-8f0b-37822f5e13d2",
   "metadata": {},
   "source": [
    "ECFP4 に相当する半径 2 のモルガンフィンガープリントを生成します。"
   ]
  },
  {
   "cell_type": "code",
   "execution_count": 4,
   "id": "88ef3a3a-43c2-43a9-9f96-edf26a96f37d",
   "metadata": {},
   "outputs": [],
   "source": [
    "fp1 = AllChem.GetMorganFingerprint(mol1, 2)\n",
    "fp2 = AllChem.GetMorganFingerprint(mol2, 2)"
   ]
  },
  {
   "cell_type": "markdown",
   "id": "7a7c04bd-39cd-4071-abba-d7bc1a8d8c86",
   "metadata": {},
   "source": [
    "類似度の評価にはタニモト係数を使います。"
   ]
  },
  {
   "cell_type": "code",
   "execution_count": 5,
   "id": "a0ea1eb8-5c83-4380-8145-0260c4f81e74",
   "metadata": {},
   "outputs": [
    {
     "data": {
      "text/plain": [
       "0.5384615384615384"
      ]
     },
     "execution_count": 5,
     "metadata": {},
     "output_type": "execute_result"
    }
   ],
   "source": [
    "DataStructs.TanimotoSimilarity(fp1, fp2)"
   ]
  },
  {
   "cell_type": "markdown",
   "id": "28e91b31-8df8-4aa8-a3ea-b393c856c5b7",
   "metadata": {},
   "source": [
    "類似度の補数（すなわち 1 - 類似度）は、どれくらい離れているかを示す距離となります。距離を求める場合は returnDistance = True とします。 後述のクラスタリングなどでは類似度よりも距離を用いることの方が多いです。"
   ]
  },
  {
   "cell_type": "code",
   "execution_count": 6,
   "id": "ab449a37-1009-42a7-8f48-5035bb6d0cb7",
   "metadata": {},
   "outputs": [
    {
     "data": {
      "text/plain": [
       "0.46153846153846156"
      ]
     },
     "execution_count": 6,
     "metadata": {},
     "output_type": "execute_result"
    }
   ],
   "source": [
    "DataStructs.TanimotoSimilarity(fp1, fp2, returnDistance = True)"
   ]
  },
  {
   "cell_type": "markdown",
   "id": "89e9ee80-2fd0-4fb7-ac24-44bb494159a7",
   "metadata": {},
   "source": [
    "### バーチャルスクリーニング\n",
    "化合物の類似性の評価指標を用い多くの化合物の中から特定の化合物群を計算から選び出すことを Ligand-based バーチャルスクリーニングと呼びます。\n",
    "\n",
    "薬になりそうな化合物が特許や論文で発表されたり、自社のアッセイ系で有望そうな化合物が見つかった場合、自社の化合物ライブラリデータベースや市販化合物のデータベースの中に類似の化合物で、より有望そうなものがあるかどうかを探したいことがあります。\n",
    "\n",
    "ここでは、ノイラミニダーゼ阻害薬として知られるインフルエンザ治療薬であるイナビルの類似体が購入可能であるかを ZINC を利用して調べます。\n",
    "\n",
    "イナビルの分子量が約 350, ALogP が -2.92 だったので、ZINC の分子量 350-375, LogP が -1 未満の 340 万化合物の区画を選択しました。この区画は 16 のファイルに分かれていますが、最初の 1 セットだけダウンロードして使ってみます。\n",
    "\n",
    "#### Note\n",
    "データのダウンロード方法は 4 章で説明しています。\n",
    "jupyter notebook では ! で始めると Shell コマンドを実行できます。\n",
    "jupyter notebook 上で wget コマンドで ZINC のデータセットをダウンロードします。"
   ]
  },
  {
   "cell_type": "code",
   "execution_count": 16,
   "id": "2c1efb42-7e6a-4b11-afa6-3028ad670dfa",
   "metadata": {},
   "outputs": [
    {
     "name": "stdout",
     "output_type": "stream",
     "text": [
      "\n",
      "BITSADMIN version 3.0\n",
      "BITS administration utility.\n",
      "(C) Copyright Microsoft Corp.\n",
      "\n",
      "Transfer complete.\n"
     ]
    }
   ],
   "source": [
    "!bitsadmin.exe /TRANSFER htmldl http://files.docking.org/2D/EA/EAED.smi C:\\\\Users\\ｘｘｘ\\Documents\\EAED.smi\n",
    "#need full path"
   ]
  },
  {
   "cell_type": "markdown",
   "id": "9e7bf82a-aafb-4b58-946e-b8e58ca2c75f",
   "metadata": {},
   "source": [
    "!wget http://files.docking.org/2D/EA/EAED.smi\n",
    "#### NOTE\n",
    "Windows などで wget コマンドがない場合はブラウザにURLを直接入力するとファイルのダウンロードができるので、ダウンロードしたファイルを Jupyter を起動しているディレクトリに移動してください。"
   ]
  },
  {
   "cell_type": "markdown",
   "id": "96eafce8-c6b8-4f71-88bc-f277f2b8e7b7",
   "metadata": {},
   "source": [
    "SmilesMolSupplier 関数を使い、ファイルからまとめて SMILES を読み込み mol オブジェクトにします。5 章で紹介した SDMolSupplier の SMILES バージョンと考えてください。"
   ]
  },
  {
   "cell_type": "code",
   "execution_count": 17,
   "id": "6de958c4-fa7a-4904-a4c1-61bef9c1f2f5",
   "metadata": {},
   "outputs": [
    {
     "data": {
      "text/plain": [
       "114943"
      ]
     },
     "execution_count": 17,
     "metadata": {},
     "output_type": "execute_result"
    }
   ],
   "source": [
    "spl = Chem.rdmolfiles.SmilesMolSupplier(\"EAED.smi\")\n",
    "len(spl)"
   ]
  },
  {
   "cell_type": "markdown",
   "id": "09b9c368-1cab-4b85-ba50-cb492e71db68",
   "metadata": {},
   "source": [
    "イナビル (Laninamivir) との類似度を調べるための関数を用意します。"
   ]
  },
  {
   "cell_type": "code",
   "execution_count": 18,
   "id": "11521a4b-0746-47d2-88dc-760db0256ea4",
   "metadata": {},
   "outputs": [],
   "source": [
    "laninamivir = Chem.MolFromSmiles(\"CO[C@H]([C@H](O)CO)[C@@H]1OC(=C[C@H](NC(=N)N)[C@H]1NC(=O)C)C(=O)O\")\n",
    "laninamivir_fp = AllChem.GetMorganFingerprint(laninamivir, 2)\n",
    "\n",
    "def calc_laninamivir_similarity(mol):\n",
    "    fp = AllChem.GetMorganFingerprint(mol, 2)\n",
    "    sim = DataStructs.TanimotoSimilarity(laninamivir_fp, fp)\n",
    "    return sim"
   ]
  },
  {
   "cell_type": "markdown",
   "id": "c8b5d50e-8d7c-4098-b8b7-f84498e221e7",
   "metadata": {},
   "source": [
    "関数を用いて、類似度を計算してみましょう。"
   ]
  },
  {
   "cell_type": "code",
   "execution_count": 19,
   "id": "5908ca27-c6be-469f-9707-d22da5315912",
   "metadata": {},
   "outputs": [],
   "source": [
    "similar_mols = []\n",
    "for mol in spl:\n",
    "    sim = calc_laninamivir_similarity(mol)\n",
    "    if sim > 0.2:\n",
    "        similar_mols.append((mol, sim))"
   ]
  },
  {
   "cell_type": "markdown",
   "id": "18abd5ec-e95b-432f-b338-f1fa6aefc426",
   "metadata": {},
   "source": [
    "結果を類似度の高い順に並べ替えて最初の10件だけ取り出します。"
   ]
  },
  {
   "cell_type": "code",
   "execution_count": 20,
   "id": "b186627c-e56b-4200-9a89-9ca9d5f2fa35",
   "metadata": {},
   "outputs": [],
   "source": [
    "similar_mols.sort(key=lambda x: x[1], reverse=True)\n",
    "mols = [l[0] for l in similar_mols[:10]]"
   ]
  },
  {
   "cell_type": "markdown",
   "id": "3f710307-ace2-469e-9497-81c1c3f0d798",
   "metadata": {},
   "source": [
    "描画してみましょう。"
   ]
  },
  {
   "cell_type": "code",
   "execution_count": 21,
   "id": "76579c98-e26c-4c1f-a4e9-1960a292a5c4",
   "metadata": {},
   "outputs": [
    {
     "data": {
      "image/png": "[encoded data removed]",
      "text/plain": [
       "<IPython.core.display.Image object>"
      ]
     },
     "execution_count": 21,
     "metadata": {},
     "output_type": "execute_result"
    }
   ],
   "source": [
    "Draw.MolsToGridImage(mols, molsPerRow=5)"
   ]
  },
  {
   "cell_type": "markdown",
   "id": "20d3607a-80cb-4387-9f0f-26d07f8b31f1",
   "metadata": {},
   "source": [
    "類似度を確認すればわかりますが、今回調べた約 11 万件の化合物は最高でも 23% の類似度の化合物しか見いだせませんでした。ZINC は 7 億 5000 万件のデータを収録してあるのでその中にはもっと似ている化合物はたくさんあるはずです。"
   ]
  },
  {
   "cell_type": "markdown",
   "id": "b95ac310-92db-40af-8b91-e19c9aedcf28",
   "metadata": {},
   "source": [
    "### クラスタリング\n",
    "市販化合物を購入してライブラリを作る場合に、できるだけ多様性を持たせる目的で、似ている化合物ばかりが偏らないように類似化合物同士をまとめ、その中の代表を選ぶことがあります。化合物を構造の類似性でまとめたい場合、クラスタリングという手法を使います。\n",
    "\n",
    "Novartis の抗マラリアアッセイの 5614 件のヒット化合物を例にクラスタリングを実施してみましょう。"
   ]
  },
  {
   "cell_type": "markdown",
   "id": "72487fbb-0e01-4779-911c-76f069bc2283",
   "metadata": {},
   "source": [
    "クラスタリング用のライブラリをインポートし、データを読み込みます。"
   ]
  },
  {
   "cell_type": "code",
   "execution_count": null,
   "id": "2d03c8c3-eeb4-4119-b93a-72717802f0b6",
   "metadata": {},
   "outputs": [],
   "source": [
    "from rdkit.ML.Cluster import Butina\n",
    "mols = Chem.SDMolSupplier(\"ch06_nov_hts.sdf\")"
   ]
  },
  {
   "cell_type": "markdown",
   "id": "d4942548-650e-4fd4-a88c-35846fc3abba",
   "metadata": {},
   "source": [
    "何らかの理由で RDKit で分子の読み込みができない場合、mol オブジェクトではなく None が生成されます。\n",
    "\n",
    "None を GetMorganFingerprintAsBitVect 関数にわたすとエラーになるので、None を除きながらフィンガープリントを生成します。"
   ]
  },
  {
   "cell_type": "code",
   "execution_count": null,
   "id": "112a4f48-772f-4405-ace4-7b2a561f5fa0",
   "metadata": {},
   "outputs": [],
   "source": [
    "fps = []\n",
    "valid_mols = []\n",
    "\n",
    "for mol in mols:\n",
    "    if mol is not None:\n",
    "        fp = AllChem.GetMorganFingerprintAsBitVect(mol, 2)\n",
    "        fps.append(fp)\n",
    "        valid_mols.append(mol)"
   ]
  },
  {
   "cell_type": "markdown",
   "id": "4e9c153f-d6fc-4dce-8272-44bd7ef15be6",
   "metadata": {},
   "source": [
    "フィンガープリントから距離行列（下三角の距離行列）を生成します。ある化合物を参照化合物とし、複数の化合物の間の類似度や距離を計算する時は DataStructs.BulkTanimotoSimilarity を用いるとまとめて計算ができます。"
   ]
  },
  {
   "cell_type": "code",
   "execution_count": null,
   "id": "e9e89c04-f172-49cc-aa4d-e8de75482ddf",
   "metadata": {},
   "outputs": [],
   "source": [
    "distance_matrix = []\n",
    "for i, fp in enumerate(fps):\n",
    "    distance = DataStructs.BulkTanimotoSimilarity(fps[i], fps[:i+1], returnDistance = True)\n",
    "    distance_matrix.extend(distance)"
   ]
  },
  {
   "cell_type": "markdown",
   "id": "dcb5d49b-da6d-459d-8863-d4f755cd3b97",
   "metadata": {},
   "source": [
    "距離行列を用いて化合物をクラスタリングします。3 番目の引数は距離の閾値です。この例では距離 0.2 つまり 80% 以上の類似度の化合物でクラスタリングしています。"
   ]
  },
  {
   "cell_type": "code",
   "execution_count": null,
   "id": "0d001697-87ed-4eb7-8dc9-9cf1bbfca659",
   "metadata": {},
   "outputs": [],
   "source": [
    "clusters = Butina.ClusterData(distance_matrix, len(fps), 0.2, isDistData = True)"
   ]
  },
  {
   "cell_type": "markdown",
   "id": "20bbc74a-ef5a-4f9d-a2de-e22a78e7a307",
   "metadata": {},
   "source": [
    "クラスタ数を確認しましょう。"
   ]
  },
  {
   "cell_type": "code",
   "execution_count": null,
   "id": "fc59ac1b-52a7-404e-81d5-6584fe20b569",
   "metadata": {},
   "outputs": [],
   "source": [
    "len(clusters)"
   ]
  },
  {
   "cell_type": "code",
   "execution_count": null,
   "id": "dea8f841-9af0-4b11-a489-e6dd8b5be12b",
   "metadata": {},
   "outputs": [],
   "source": [
    "最初のクラスタの構造を表示してみましょう。"
   ]
  },
  {
   "cell_type": "code",
   "execution_count": null,
   "id": "b9e4d652-02b9-4a5f-a864-a2a3f72698f8",
   "metadata": {},
   "outputs": [],
   "source": [
    "mols_ = [valid_mols[i] for i in clusters[0]]\n",
    "Draw.MolsToGridImage(mols_, molsPerRow = 5)"
   ]
  },
  {
   "cell_type": "markdown",
   "id": "28cdddb3-9cdf-44be-805d-4ee8116ec63c",
   "metadata": {},
   "source": [
    "今回は　RDKit　に用意されているライブラリでクラスタリングを行いましたが、Scikit-learn　でも幾つかの手法が利用できますし、実際にはこちらの方を使うことが多いです。"
   ]
  },
  {
   "cell_type": "markdown",
   "id": "63d0f629-f11f-4e91-9d41-67836397df05",
   "metadata": {},
   "source": [
    "### Structure Based Drug Design (SBDD)\n",
    "抗凝固薬として上市されている apixaban, rivaroxaban の類似性を評価してみましょう。"
   ]
  },
  {
   "cell_type": "code",
   "execution_count": 22,
   "id": "3728110f-743d-413e-b307-75e920c09bbd",
   "metadata": {},
   "outputs": [
    {
     "data": {
      "image/png": "[encoded data removed]",
      "text/plain": [
       "<IPython.core.display.Image object>"
      ]
     },
     "execution_count": 22,
     "metadata": {},
     "output_type": "execute_result"
    }
   ],
   "source": [
    "apx = Chem.MolFromSmiles(\"COc1ccc(cc1)n2nc(C(=O)N)c3CCN(C(=O)c23)c4ccc(cc4)N5CCCCC5=O\")\n",
    "rvx = Chem.MolFromSmiles(\"Clc1ccc(s1)C(=O)NC[C@H]2CN(C(=O)O2)c3ccc(cc3)N4CCOCC4=O\")\n",
    "Draw.MolsToGridImage([apx, rvx], legends=[\"apixaban\", \"rivaroxaban\"])"
   ]
  },
  {
   "cell_type": "markdown",
   "id": "2e718179-b823-4c12-819a-43c15eef6558",
   "metadata": {},
   "source": [
    "構造を見るとなんとなく似ています。2 つの化合物は両方共 FXa というセリンプロテアーゼの同じポケットに同じように結合し、蛋白質の働きを阻害することが知られています。"
   ]
  },
  {
   "cell_type": "code",
   "execution_count": 23,
   "id": "3d9dbdc8-b1dc-40d0-9ec7-c06b671ea79a",
   "metadata": {},
   "outputs": [],
   "source": [
    "apx_fp = AllChem.GetMorganFingerprint(apx, 2, useFeatures = True)\n",
    "rvx_fp = AllChem.GetMorganFingerprint(rvx, 2, useFeatures = True)"
   ]
  },
  {
   "cell_type": "code",
   "execution_count": 24,
   "id": "02c0bab8-62bb-4110-b94f-c34f2200bd9a",
   "metadata": {},
   "outputs": [
    {
     "data": {
      "text/plain": [
       "0.40625"
      ]
     },
     "execution_count": 24,
     "metadata": {},
     "output_type": "execute_result"
    }
   ],
   "source": [
    "DataStructs.TanimotoSimilarity(apx_fp, rvx_fp)"
   ]
  },
  {
   "cell_type": "markdown",
   "id": "3358c160-13bb-4e5a-b825-7125cf6f1470",
   "metadata": {},
   "source": [
    "40% くらいの類似度ということになりました。実は apixaban も rivaroxaban も複合体結晶構造が解かれており、PyMOL を利用して重ねて描画します。\n",
    "\n",
    "#### NOTE\n",
    "本書の内容を超えるので、PyMOLの使い方などについては説明しません。興味があればこの辺りを参考にしてください。\n",
    "\n",
    "\n",
    "図から、apixaban,　rivaroxaban　は立体的に綺麗に重なっていることが見てとれます。特に、メトキシフェニルとクロロチオールは S1 ポケットと呼ばれる部位に位置しており何らかの強い相互作用をしていると言われています。蛋白質のリガンド結合部位（ポケット）が明確になれば、メディシナルケミストが次にどの辺りを修飾するかの戦略が立てやすくなり、プロジェクトの成功確率や進捗速度も上がります。\n",
    "\n",
    "X 線やクライオ電験などにより決められた蛋白質の形状に基づいて構造最適化を行うアプローチを Structure Based Drug Design (SBDD) と呼びます。また、ポケットがわかれば、物理的にポケットに結合するような化合物をスクリーニングすることができます。化合物の類似性に基づくリガンドベースのバーチャルスクリーニング (LBVS) に対して、構造ベースのバーチャルスクリーニング (SBVS) と呼びます。\n",
    "\n",
    "#### FXa 阻害剤の歴史と量子化学計算の重要性\n",
    "本書のケモインフォマティクスの内容とは大きくかけ離れるのですが、FXa 阻害剤の歴史を辿り、世代を経てどのような改良がなされていったのかを理解するのは分子設計をする上でかなり役に立ちます。S1 ポケットの相互作用の解釈は目視や古典力学では非常に難しく、Fragment Molecular Orbital Method のような量子化学計算によってのみ解釈できるため、今後の分子設計において量子化学計算は必須になることは間違いありません。"
   ]
  }
 ],
 "metadata": {
  "kernelspec": {
   "display_name": "py4chemoinformatics",
   "language": "python",
   "name": "py4chemoinformatics"
  },
  "language_info": {
   "codemirror_mode": {
    "name": "ipython",
    "version": 3
   },
   "file_extension": ".py",
   "mimetype": "text/x-python",
   "name": "python",
   "nbconvert_exporter": "python",
   "pygments_lexer": "ipython3",
   "version": "3.10.12"
  }
 },
 "nbformat": 4,
 "nbformat_minor": 5
}
